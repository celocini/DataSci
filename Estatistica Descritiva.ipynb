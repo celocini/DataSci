{
 "cells": [
  {
   "cell_type": "markdown",
   "metadata": {},
   "source": [
    "# PYTHON "
   ]
  },
  {
   "cell_type": "markdown",
   "metadata": {},
   "source": [
    "## Guia McMc \n",
    "### CeloCini"
   ]
  },
  {
   "cell_type": "markdown",
   "metadata": {},
   "source": [
    "## ESTATÍSTICA DESCRITIVA"
   ]
  },
  {
   "cell_type": "code",
   "execution_count": 155,
   "metadata": {},
   "outputs": [],
   "source": [
    "import numpy as np\n",
    "from scipy import stats"
   ]
  },
  {
   "cell_type": "code",
   "execution_count": 156,
   "metadata": {},
   "outputs": [],
   "source": [
    "# MÉDIA, MEDIANA, MODA, MAX, MIN, AMPLITUDE, DESVIO PADRÃO, VARIÂNCIA"
   ]
  },
  {
   "cell_type": "code",
   "execution_count": 157,
   "metadata": {},
   "outputs": [],
   "source": [
    "# Pontos de alguns jogadores.\n",
    "# Alterar os valores da lista e verificar \n",
    "# os resultados ajudará a para dissipar as dúvidas"
   ]
  },
  {
   "cell_type": "code",
   "execution_count": 158,
   "metadata": {},
   "outputs": [
    {
     "data": {
      "text/plain": [
       "[4, 1, 10, 7, 28, 7, 5, 8]"
      ]
     },
     "execution_count": 158,
     "metadata": {},
     "output_type": "execute_result"
    }
   ],
   "source": [
    "# Jogadoras e suas médias de pontos por partida\n",
    "jogadoras = [\"Leila\",\"Ana\",\"Paula\",\"Denise\",\"Sandra\",\"Joana\",\"Magali\",\"Ana Paula\"]\n",
    "pontos = [4,1,10,7,28,7,5,8]\n",
    "pontos"
   ]
  },
  {
   "cell_type": "code",
   "execution_count": 159,
   "metadata": {},
   "outputs": [
    {
     "data": {
      "text/plain": [
       "{'Leila': 4,\n",
       " 'Ana': 1,\n",
       " 'Paula': 10,\n",
       " 'Denise': 7,\n",
       " 'Sandra': 28,\n",
       " 'Joana': 7,\n",
       " 'Magali': 5,\n",
       " 'Ana Paula': 8}"
      ]
     },
     "execution_count": 159,
     "metadata": {},
     "output_type": "execute_result"
    }
   ],
   "source": [
    "# se necessário, pode-se criar um dicionário\n",
    "jog_pts = dict(zip(jogadoras,pontos))\n",
    "jog_pts"
   ]
  },
  {
   "cell_type": "code",
   "execution_count": 160,
   "metadata": {},
   "outputs": [
    {
     "data": {
      "text/plain": [
       "[1, 4, 5, 7, 7, 8, 10, 28]"
      ]
     },
     "execution_count": 160,
     "metadata": {},
     "output_type": "execute_result"
    }
   ],
   "source": [
    "# vamos nos concentrar nos pontos\n",
    "sorted(pontos)"
   ]
  },
  {
   "cell_type": "code",
   "execution_count": 161,
   "metadata": {},
   "outputs": [
    {
     "data": {
      "text/plain": [
       "[4, 1, 10, 7, 28, 7, 5, 8]"
      ]
     },
     "execution_count": 161,
     "metadata": {},
     "output_type": "execute_result"
    }
   ],
   "source": [
    "# não se engane\n",
    "pontos"
   ]
  },
  {
   "cell_type": "code",
   "execution_count": 162,
   "metadata": {},
   "outputs": [
    {
     "data": {
      "text/plain": [
       "[1, 4, 5, 7, 7, 8, 10, 28]"
      ]
     },
     "execution_count": 162,
     "metadata": {},
     "output_type": "execute_result"
    }
   ],
   "source": [
    "# se quiser 'eternizar' só um pouquinho kkk\n",
    "pts = sorted(pontos)\n",
    "pts"
   ]
  },
  {
   "cell_type": "code",
   "execution_count": 163,
   "metadata": {},
   "outputs": [
    {
     "data": {
      "text/plain": [
       "70"
      ]
     },
     "execution_count": 163,
     "metadata": {},
     "output_type": "execute_result"
    }
   ],
   "source": [
    "np.sum(pts)"
   ]
  },
  {
   "cell_type": "code",
   "execution_count": 164,
   "metadata": {},
   "outputs": [
    {
     "data": {
      "text/plain": [
       "8"
      ]
     },
     "execution_count": 164,
     "metadata": {},
     "output_type": "execute_result"
    }
   ],
   "source": [
    "len(pts) # número de ítens na lista"
   ]
  },
  {
   "cell_type": "code",
   "execution_count": 165,
   "metadata": {},
   "outputs": [
    {
     "data": {
      "text/plain": [
       "8.75"
      ]
     },
     "execution_count": 165,
     "metadata": {},
     "output_type": "execute_result"
    }
   ],
   "source": [
    "# média\n",
    "np.mean(pts)"
   ]
  },
  {
   "cell_type": "code",
   "execution_count": 166,
   "metadata": {},
   "outputs": [
    {
     "data": {
      "text/plain": [
       "8.75"
      ]
     },
     "execution_count": 166,
     "metadata": {},
     "output_type": "execute_result"
    }
   ],
   "source": [
    "# average também calcula a média (inclusive valores mascarados)\n",
    "# Também pode usar ponderação com weights\n",
    "# Fora do contexto, só para mostrar a possibilidade. retire o # e teste a linha abaixo\n",
    "# print(np.average(pts[0:4], weights=[100,1,1,1]))\n",
    "np.average(pts)"
   ]
  },
  {
   "cell_type": "code",
   "execution_count": 167,
   "metadata": {},
   "outputs": [
    {
     "name": "stdout",
     "output_type": "stream",
     "text": [
      "[1, 4, 5, 7, 7, 8, 10, 28]\n"
     ]
    },
    {
     "data": {
      "text/plain": [
       "7.0"
      ]
     },
     "execution_count": 167,
     "metadata": {},
     "output_type": "execute_result"
    }
   ],
   "source": [
    "# mediana\n",
    "print(pts)  # para observar os dados\n",
    "np.median(pts)"
   ]
  },
  {
   "cell_type": "code",
   "execution_count": 168,
   "metadata": {},
   "outputs": [
    {
     "data": {
      "text/plain": [
       "ModeResult(mode=array([7]), count=array([2]))"
      ]
     },
     "execution_count": 168,
     "metadata": {},
     "output_type": "execute_result"
    }
   ],
   "source": [
    "# moda\n",
    "stats.mode(pts)"
   ]
  },
  {
   "cell_type": "code",
   "execution_count": 169,
   "metadata": {},
   "outputs": [
    {
     "data": {
      "text/plain": [
       "[1, 4, 5, 7, 7, 8, 10, 28]"
      ]
     },
     "execution_count": 169,
     "metadata": {},
     "output_type": "execute_result"
    }
   ],
   "source": [
    "pts"
   ]
  },
  {
   "cell_type": "code",
   "execution_count": 170,
   "metadata": {},
   "outputs": [
    {
     "data": {
      "text/plain": [
       "28"
      ]
     },
     "execution_count": 170,
     "metadata": {},
     "output_type": "execute_result"
    }
   ],
   "source": [
    "np.max(pts)"
   ]
  },
  {
   "cell_type": "code",
   "execution_count": 171,
   "metadata": {},
   "outputs": [
    {
     "data": {
      "text/plain": [
       "1"
      ]
     },
     "execution_count": 171,
     "metadata": {},
     "output_type": "execute_result"
    }
   ],
   "source": [
    "np.min(pts)"
   ]
  },
  {
   "cell_type": "code",
   "execution_count": 172,
   "metadata": {},
   "outputs": [
    {
     "name": "stdout",
     "output_type": "stream",
     "text": [
      "Média:  8.75\n",
      "Número de ítens na amostra: 8\n",
      "Diferenças**2:  [60.06, 22.56, 14.06, 3.06, 3.06, 0.56, 1.56, 370.56]  / Soma:  475.48\n",
      "Variância:  59.44\n",
      "Desvio Padrão:  7.71\n"
     ]
    }
   ],
   "source": [
    "# variancia e desvio padrão na sofrência\n",
    "md = np.mean(pts)\n",
    "print('Média: ', md)\n",
    "\n",
    "tamanho_amostra = len(pts)\n",
    "print('Número de ítens na amostra:', tamanho_amostra)\n",
    "\n",
    "# aqui um pouco mais ninja kkk list comprehension\n",
    "quadrado_dif = [round((ponto-md)**2, 2) for ponto in pts]\n",
    "print('Diferenças**2: ', quadrado_dif, ' / Soma: ' ,sum(quadrado_dif))\n",
    "\n",
    "variancia = np.sum(quadrado_dif)/tamanho_amostra\n",
    "print('Variância: ', round(variancia,2)) # round(variável, casas decimais)\n",
    "\n",
    "desvio_padrao = variancia**(1/2)  # raiz quadrada da variância\n",
    "print(\"Desvio Padrão: \", '%.2f' % desvio_padrao)   # gostou? segundo round kkkk"
   ]
  },
  {
   "cell_type": "code",
   "execution_count": 173,
   "metadata": {},
   "outputs": [
    {
     "name": "stdout",
     "output_type": "stream",
     "text": [
      "59.4375\n",
      "7.709571972554637\n"
     ]
    }
   ],
   "source": [
    "# variância e desvio padrão no sossego\n",
    "print(np.var(pts))\n",
    "print(np.std(pts))"
   ]
  },
  {
   "cell_type": "code",
   "execution_count": 174,
   "metadata": {},
   "outputs": [
    {
     "name": "stdout",
     "output_type": "stream",
     "text": [
      "7.71\n"
     ]
    }
   ],
   "source": [
    "# 'formatação'\n",
    "print('%.2f' % np.std(pts))"
   ]
  },
  {
   "cell_type": "code",
   "execution_count": 175,
   "metadata": {},
   "outputs": [
    {
     "name": "stdout",
     "output_type": "stream",
     "text": [
      "Média: 4.0\n",
      "Diferenças: [0.0, 4.0, 4.0]\n",
      "Variância: 2.6666666666666665\n",
      "Desvio Padrão: 1.632993161855452\n"
     ]
    }
   ],
   "source": [
    "# outra sofrência. mais ligeira\n",
    "ui = [4,2,6]\n",
    "ui_media = np.mean(ui)\n",
    "print('Média:',ui_media)\n",
    "ui_dif = [(x-ui_media)**2 for x in ui]\n",
    "print('Diferenças:',ui_dif)\n",
    "ui_var = (np.sum(ui_dif))/len(ui)\n",
    "print('Variância:',ui_var)\n",
    "ui_std = ui_var**0.5\n",
    "print('Desvio Padrão:',ui_std)"
   ]
  },
  {
   "cell_type": "code",
   "execution_count": 176,
   "metadata": {},
   "outputs": [
    {
     "name": "stdout",
     "output_type": "stream",
     "text": [
      "Desvio Padrão 1.632993161855452\n"
     ]
    }
   ],
   "source": [
    "# tchu tchu tchu\n",
    "print('Desvio Padrão', np.std(ui))"
   ]
  },
  {
   "cell_type": "code",
   "execution_count": 177,
   "metadata": {},
   "outputs": [
    {
     "name": "stdout",
     "output_type": "stream",
     "text": [
      "1.040590165259081  ---  16.459409834740917\n"
     ]
    },
    {
     "data": {
      "text/plain": [
       "[4, 1, 10, 7, 28, 7, 5, 8]"
      ]
     },
     "execution_count": 177,
     "metadata": {},
     "output_type": "execute_result"
    }
   ],
   "source": [
    "# para ajudar a analisar... o 1 tá no limite? o 28 é 'destoante'?\n",
    "print(md - desvio_padrao, ' --- ', md + desvio_padrao)\n",
    "pontos"
   ]
  },
  {
   "cell_type": "code",
   "execution_count": 178,
   "metadata": {},
   "outputs": [],
   "source": [
    "# Um caça-talentos poderia analisar a pontuação\n",
    "# detectar pontuadoras excepcionais \n",
    "# a jogadora que fez mais pontos é excepcional?"
   ]
  },
  {
   "cell_type": "code",
   "execution_count": 179,
   "metadata": {},
   "outputs": [
    {
     "name": "stdout",
     "output_type": "stream",
     "text": [
      "75.0 %\n"
     ]
    }
   ],
   "source": [
    "# Neste exemplo, 2 entre 8 não estavam na faixa de 1 desvio_padrão\n",
    "# apesar do 1 estar muito próximo, está fora\n",
    "percentual = (6/8)*100\n",
    "print(percentual,'%')"
   ]
  },
  {
   "cell_type": "markdown",
   "metadata": {},
   "source": [
    "### 75,5 dos dados estão dentro de 1 desvio. Isto mostra a homogeneidade."
   ]
  },
  {
   "cell_type": "code",
   "execution_count": 180,
   "metadata": {},
   "outputs": [
    {
     "name": "stdout",
     "output_type": "stream",
     "text": [
      "-6.668819669481838  ---  24.168819669481838\n"
     ]
    }
   ],
   "source": [
    "print(md - desvio_padrao*2, ' --- ', md + desvio_padrao*2) # 2 desvios padrão"
   ]
  },
  {
   "cell_type": "code",
   "execution_count": 181,
   "metadata": {},
   "outputs": [
    {
     "data": {
      "text/plain": [
       "[1, 4, 5, 7, 7, 8, 10, 28]"
      ]
     },
     "execution_count": 181,
     "metadata": {},
     "output_type": "execute_result"
    }
   ],
   "source": [
    "pts"
   ]
  },
  {
   "cell_type": "code",
   "execution_count": 182,
   "metadata": {},
   "outputs": [],
   "source": [
    "# Observe que mesmo com 2 desvios, o valor 28 está fora da margem.. \n",
    "# Valores na faixa de 3 desvios tem maior probabilidade de serem discrepantes\n",
    "# Não existe um critério 'exato' para definir um valor discrepante."
   ]
  },
  {
   "cell_type": "code",
   "execution_count": 183,
   "metadata": {},
   "outputs": [],
   "source": [
    "#ATENÇÃO Valores discrepantes podem identificar muitas coisas, \n",
    "# desde algo insignificante até uma fraude, oportunidade, \n",
    "# surgimento de tendência, alguém descobriu algo novo..."
   ]
  },
  {
   "cell_type": "markdown",
   "metadata": {},
   "source": [
    "### Coeficiente de Variação"
   ]
  },
  {
   "cell_type": "markdown",
   "metadata": {},
   "source": [
    "## CV = (S/x)*100\n",
    "### S é o Desvio Padrão\n",
    "### x é a Média"
   ]
  },
  {
   "cell_type": "code",
   "execution_count": 184,
   "metadata": {},
   "outputs": [
    {
     "data": {
      "text/plain": [
       "[1, 4, 5, 7, 7, 8, 10, 28]"
      ]
     },
     "execution_count": 184,
     "metadata": {},
     "output_type": "execute_result"
    }
   ],
   "source": [
    "# O coeficiente de variação é dado em %, por isso a fórmula é multiplicada por 100.\n",
    "pts"
   ]
  },
  {
   "cell_type": "code",
   "execution_count": 185,
   "metadata": {},
   "outputs": [
    {
     "data": {
      "text/plain": [
       "88.109393972053"
      ]
     },
     "execution_count": 185,
     "metadata": {},
     "output_type": "execute_result"
    }
   ],
   "source": [
    "cv = np.std(pts)/np.mean(pts)*100\n",
    "cv"
   ]
  },
  {
   "cell_type": "code",
   "execution_count": 186,
   "metadata": {},
   "outputs": [],
   "source": [
    "# observe que o valor representa um alto coeficiente de variabilidade, amostra heterogenea"
   ]
  },
  {
   "cell_type": "code",
   "execution_count": 187,
   "metadata": {},
   "outputs": [],
   "source": [
    "outro = [3,6,4,5,7,5,4,8,5]"
   ]
  },
  {
   "cell_type": "code",
   "execution_count": 188,
   "metadata": {},
   "outputs": [
    {
     "data": {
      "text/plain": [
       "28.22659396047149"
      ]
     },
     "execution_count": 188,
     "metadata": {},
     "output_type": "execute_result"
    }
   ],
   "source": [
    "cv_outro = np.std(outro)/np.mean(outro)*100\n",
    "cv_outro"
   ]
  },
  {
   "cell_type": "code",
   "execution_count": 189,
   "metadata": {},
   "outputs": [],
   "source": [
    "# este conjunto de dados mostra mais consistência, mais homogeneidade"
   ]
  },
  {
   "cell_type": "markdown",
   "metadata": {},
   "source": [
    "### Escore-Z"
   ]
  },
  {
   "cell_type": "code",
   "execution_count": 190,
   "metadata": {},
   "outputs": [
    {
     "data": {
      "text/plain": [
       "2.4969485878482827"
      ]
     },
     "execution_count": 190,
     "metadata": {},
     "output_type": "execute_result"
    }
   ],
   "source": [
    "# Escore-z calcula a quantos desvios padrão um valor está da média\n",
    "# individual. observe que o valor máximo está no 3o desvio padrão\n",
    "escore_z2 = (max(pts)-md)/desvio_padrao\n",
    "escore_z2"
   ]
  },
  {
   "cell_type": "code",
   "execution_count": 191,
   "metadata": {},
   "outputs": [
    {
     "data": {
      "text/plain": [
       "array([[ 4.  ,  1.  , 10.  ,  7.  , 28.  ,  7.  ,  5.  ,  8.  ],\n",
       "       [-0.62, -1.01,  0.16, -0.23,  2.5 , -0.23, -0.49, -0.1 ]])"
      ]
     },
     "execution_count": 191,
     "metadata": {},
     "output_type": "execute_result"
    }
   ],
   "source": [
    "# Escore-z calculado para a lista inteira. round para casas decimais.\n",
    "# Uso do for em list comprehentions\n",
    "escore_z = [round((x-md)/desvio_padrao , 2) for x in pontos]\n",
    "pont_escore = np.array([pontos, escore_z])\n",
    "pont_escore"
   ]
  },
  {
   "cell_type": "code",
   "execution_count": 192,
   "metadata": {},
   "outputs": [
    {
     "data": {
      "text/plain": [
       "array([-0.61611721, -1.00524387,  0.16213611, -0.22699055,  2.49689608,\n",
       "       -0.22699055, -0.48640833, -0.09728167])"
      ]
     },
     "execution_count": 192,
     "metadata": {},
     "output_type": "execute_result"
    }
   ],
   "source": [
    "# usando a biblioteca\n",
    "import scipy.stats as stats\n",
    "\n",
    "stats.zscore(pontos)\n",
    "# não quis formatar"
   ]
  },
  {
   "cell_type": "markdown",
   "metadata": {},
   "source": [
    "### Percentil"
   ]
  },
  {
   "cell_type": "code",
   "execution_count": 193,
   "metadata": {},
   "outputs": [
    {
     "name": "stdout",
     "output_type": "stream",
     "text": [
      "[1, 4, 5, 7, 7, 8, 10, 28]\n"
     ]
    }
   ],
   "source": [
    "print(pts)"
   ]
  },
  {
   "cell_type": "code",
   "execution_count": 194,
   "metadata": {},
   "outputs": [
    {
     "name": "stdout",
     "output_type": "stream",
     "text": [
      "[1, 4, 5, 7, 7, 8, 10, 28]\n",
      "Escolha a jogadora pelo número de pontos:8\n",
      "Pontos do jogador:  8\n",
      "Número de ítens:  8\n",
      "Ítens com valores abaixo:  [4, 1, 7, 7, 5]\n",
      "Número de ítens com valores abaixo:  5\n",
      "Percentil:  68.75\n"
     ]
    }
   ],
   "source": [
    "# Escolha o 'jogador'\n",
    "# função input retorna string. Atenção!\n",
    "\n",
    "jogadora = -1\n",
    "print(pts)\n",
    "\n",
    "while jogadora not in pontos:\n",
    "    jogadora = int(input('Escolha a jogadora pelo número de pontos:'))  # , pontos)\n",
    "\n",
    "print('Pontos do jogador: ', jogadora)\n",
    "\n",
    "num_itens = len(pts)\n",
    "print ('Número de ítens: ', num_itens)\n",
    "\n",
    "itens_abaixo = list(filter(lambda x: x < jogadora, pontos))\n",
    "print('Ítens com valores abaixo: ', itens_abaixo)\n",
    "num_itens_abaixo = len(itens_abaixo)\n",
    "print('Número de ítens com valores abaixo: ', num_itens_abaixo)\n",
    "\n",
    "percentil = ((num_itens_abaixo + 0.5)/num_itens)*100\n",
    "print('Percentil: ', percentil)\n"
   ]
  },
  {
   "cell_type": "code",
   "execution_count": 195,
   "metadata": {},
   "outputs": [
    {
     "data": {
      "text/plain": [
       "68.75"
      ]
     },
     "execution_count": 195,
     "metadata": {},
     "output_type": "execute_result"
    }
   ],
   "source": [
    "# percentil na biblioteca. observe que o parâmetro kind não está default\n",
    "# observe que kind = 'mean' calcula igual para qualquer valor único (o 7 foi diferente)\n",
    "# para o valor repetido 7, o cálculo encontra a média entre os parâmetros ‘strict’, ‘mean’\n",
    "# ESTUDAR\n",
    "# kind{‘rank’, ‘weak’, ‘strict’, ‘mean’},\n",
    "# kind_strict = stats.percentileofscore(pontos, jogador, kind=\"strict\") \n",
    "# kind_mean = stats.percentileofscore(pontos, jogador, kind=\"mean\") \n",
    "# percen = (kind_strict + kind_mean)/2\n",
    "# percen\n",
    "stats.percentileofscore(pts, jogadora, kind=\"mean\") "
   ]
  },
  {
   "cell_type": "code",
   "execution_count": 196,
   "metadata": {},
   "outputs": [
    {
     "name": "stdout",
     "output_type": "stream",
     "text": [
      "25% ==>  4.75\n",
      "50% ==>  7.0\n",
      "75% ==>  8.5\n",
      "100% ==>  28.0\n"
     ]
    }
   ],
   "source": [
    "# aqui outro comportamento. a função retorna o valor \n",
    "# da lista correspondente ao percentil do 2o argumento\n",
    "# exemplo com  os quartis\n",
    "print('25% ==> ', np.percentile(pts, 25)) \n",
    "print('50% ==> ', np.percentile(pts, 50))\n",
    "print('75% ==> ', np.percentile(pts, 75))\n",
    "print('100% ==> ', np.percentile(pts, 100))\n",
    "# algo a entender melhor no 100% .... o 28 deveria aparecer no 99% ?"
   ]
  },
  {
   "cell_type": "markdown",
   "metadata": {},
   "source": [
    "### celocini@gmail.com"
   ]
  }
 ],
 "metadata": {
  "kernelspec": {
   "display_name": "Python 3",
   "language": "python",
   "name": "python3"
  },
  "language_info": {
   "codemirror_mode": {
    "name": "ipython",
    "version": 3
   },
   "file_extension": ".py",
   "mimetype": "text/x-python",
   "name": "python",
   "nbconvert_exporter": "python",
   "pygments_lexer": "ipython3",
   "version": "3.8.3"
  }
 },
 "nbformat": 4,
 "nbformat_minor": 4
}
